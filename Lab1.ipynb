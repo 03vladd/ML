{
 "cells": [
  {
   "cell_type": "code",
   "execution_count": 2,
   "id": "initial_id",
   "metadata": {
    "collapsed": true,
    "ExecuteTime": {
     "end_time": "2025-10-07T07:02:38.262907Z",
     "start_time": "2025-10-07T07:02:30.372259Z"
    }
   },
   "outputs": [],
   "source": [
    "import matplotlib.pyplot as plt\n",
    "import pandas as pd\n",
    "import matplotlib as mpl\n",
    "import sklearn as sk"
   ]
  },
  {
   "cell_type": "code",
   "outputs": [
    {
     "data": {
      "text/plain": "   Order        PID  MS SubClass MS Zoning  Lot Frontage  Lot Area Street  \\\n0      1  526301100           20        RL         141.0     31770   Pave   \n1      2  526350040           20        RH          80.0     11622   Pave   \n2      3  526351010           20        RL          81.0     14267   Pave   \n3      4  526353030           20        RL          93.0     11160   Pave   \n4      5  527105010           60        RL          74.0     13830   Pave   \n\n  Alley Lot Shape Land Contour  ... Pool Area Pool QC  Fence Misc Feature  \\\n0   NaN       IR1          Lvl  ...         0     NaN    NaN          NaN   \n1   NaN       Reg          Lvl  ...         0     NaN  MnPrv          NaN   \n2   NaN       IR1          Lvl  ...         0     NaN    NaN         Gar2   \n3   NaN       Reg          Lvl  ...         0     NaN    NaN          NaN   \n4   NaN       IR1          Lvl  ...         0     NaN  MnPrv          NaN   \n\n  Misc Val Mo Sold Yr Sold Sale Type  Sale Condition  SalePrice  \n0        0       5    2010       WD           Normal     215000  \n1        0       6    2010       WD           Normal     105000  \n2    12500       6    2010       WD           Normal     172000  \n3        0       4    2010       WD           Normal     244000  \n4        0       3    2010       WD           Normal     189900  \n\n[5 rows x 82 columns]",
      "text/html": "<div>\n<style scoped>\n    .dataframe tbody tr th:only-of-type {\n        vertical-align: middle;\n    }\n\n    .dataframe tbody tr th {\n        vertical-align: top;\n    }\n\n    .dataframe thead th {\n        text-align: right;\n    }\n</style>\n<table border=\"1\" class=\"dataframe\">\n  <thead>\n    <tr style=\"text-align: right;\">\n      <th></th>\n      <th>Order</th>\n      <th>PID</th>\n      <th>MS SubClass</th>\n      <th>MS Zoning</th>\n      <th>Lot Frontage</th>\n      <th>Lot Area</th>\n      <th>Street</th>\n      <th>Alley</th>\n      <th>Lot Shape</th>\n      <th>Land Contour</th>\n      <th>...</th>\n      <th>Pool Area</th>\n      <th>Pool QC</th>\n      <th>Fence</th>\n      <th>Misc Feature</th>\n      <th>Misc Val</th>\n      <th>Mo Sold</th>\n      <th>Yr Sold</th>\n      <th>Sale Type</th>\n      <th>Sale Condition</th>\n      <th>SalePrice</th>\n    </tr>\n  </thead>\n  <tbody>\n    <tr>\n      <th>0</th>\n      <td>1</td>\n      <td>526301100</td>\n      <td>20</td>\n      <td>RL</td>\n      <td>141.0</td>\n      <td>31770</td>\n      <td>Pave</td>\n      <td>NaN</td>\n      <td>IR1</td>\n      <td>Lvl</td>\n      <td>...</td>\n      <td>0</td>\n      <td>NaN</td>\n      <td>NaN</td>\n      <td>NaN</td>\n      <td>0</td>\n      <td>5</td>\n      <td>2010</td>\n      <td>WD</td>\n      <td>Normal</td>\n      <td>215000</td>\n    </tr>\n    <tr>\n      <th>1</th>\n      <td>2</td>\n      <td>526350040</td>\n      <td>20</td>\n      <td>RH</td>\n      <td>80.0</td>\n      <td>11622</td>\n      <td>Pave</td>\n      <td>NaN</td>\n      <td>Reg</td>\n      <td>Lvl</td>\n      <td>...</td>\n      <td>0</td>\n      <td>NaN</td>\n      <td>MnPrv</td>\n      <td>NaN</td>\n      <td>0</td>\n      <td>6</td>\n      <td>2010</td>\n      <td>WD</td>\n      <td>Normal</td>\n      <td>105000</td>\n    </tr>\n    <tr>\n      <th>2</th>\n      <td>3</td>\n      <td>526351010</td>\n      <td>20</td>\n      <td>RL</td>\n      <td>81.0</td>\n      <td>14267</td>\n      <td>Pave</td>\n      <td>NaN</td>\n      <td>IR1</td>\n      <td>Lvl</td>\n      <td>...</td>\n      <td>0</td>\n      <td>NaN</td>\n      <td>NaN</td>\n      <td>Gar2</td>\n      <td>12500</td>\n      <td>6</td>\n      <td>2010</td>\n      <td>WD</td>\n      <td>Normal</td>\n      <td>172000</td>\n    </tr>\n    <tr>\n      <th>3</th>\n      <td>4</td>\n      <td>526353030</td>\n      <td>20</td>\n      <td>RL</td>\n      <td>93.0</td>\n      <td>11160</td>\n      <td>Pave</td>\n      <td>NaN</td>\n      <td>Reg</td>\n      <td>Lvl</td>\n      <td>...</td>\n      <td>0</td>\n      <td>NaN</td>\n      <td>NaN</td>\n      <td>NaN</td>\n      <td>0</td>\n      <td>4</td>\n      <td>2010</td>\n      <td>WD</td>\n      <td>Normal</td>\n      <td>244000</td>\n    </tr>\n    <tr>\n      <th>4</th>\n      <td>5</td>\n      <td>527105010</td>\n      <td>60</td>\n      <td>RL</td>\n      <td>74.0</td>\n      <td>13830</td>\n      <td>Pave</td>\n      <td>NaN</td>\n      <td>IR1</td>\n      <td>Lvl</td>\n      <td>...</td>\n      <td>0</td>\n      <td>NaN</td>\n      <td>MnPrv</td>\n      <td>NaN</td>\n      <td>0</td>\n      <td>3</td>\n      <td>2010</td>\n      <td>WD</td>\n      <td>Normal</td>\n      <td>189900</td>\n    </tr>\n  </tbody>\n</table>\n<p>5 rows × 82 columns</p>\n</div>"
     },
     "execution_count": 3,
     "metadata": {},
     "output_type": "execute_result"
    }
   ],
   "source": [
    "df = pd.read_csv('AmesHousing.csv',  sep='\\t')\n",
    "df.head()"
   ],
   "metadata": {
    "collapsed": false,
    "ExecuteTime": {
     "end_time": "2025-10-07T07:02:42.615985Z",
     "start_time": "2025-10-07T07:02:42.549863Z"
    }
   },
   "id": "498fde07a7600879",
   "execution_count": 3
  },
  {
   "cell_type": "code",
   "outputs": [
    {
     "name": "stdout",
     "output_type": "stream",
     "text": [
      "<class 'pandas.core.frame.DataFrame'>\n",
      "RangeIndex: 2930 entries, 0 to 2929\n",
      "Data columns (total 82 columns):\n",
      " #   Column           Non-Null Count  Dtype  \n",
      "---  ------           --------------  -----  \n",
      " 0   Order            2930 non-null   int64  \n",
      " 1   PID              2930 non-null   int64  \n",
      " 2   MS SubClass      2930 non-null   int64  \n",
      " 3   MS Zoning        2930 non-null   object \n",
      " 4   Lot Frontage     2440 non-null   float64\n",
      " 5   Lot Area         2930 non-null   int64  \n",
      " 6   Street           2930 non-null   object \n",
      " 7   Alley            198 non-null    object \n",
      " 8   Lot Shape        2930 non-null   object \n",
      " 9   Land Contour     2930 non-null   object \n",
      " 10  Utilities        2930 non-null   object \n",
      " 11  Lot Config       2930 non-null   object \n",
      " 12  Land Slope       2930 non-null   object \n",
      " 13  Neighborhood     2930 non-null   object \n",
      " 14  Condition 1      2930 non-null   object \n",
      " 15  Condition 2      2930 non-null   object \n",
      " 16  Bldg Type        2930 non-null   object \n",
      " 17  House Style      2930 non-null   object \n",
      " 18  Overall Qual     2930 non-null   int64  \n",
      " 19  Overall Cond     2930 non-null   int64  \n",
      " 20  Year Built       2930 non-null   int64  \n",
      " 21  Year Remod/Add   2930 non-null   int64  \n",
      " 22  Roof Style       2930 non-null   object \n",
      " 23  Roof Matl        2930 non-null   object \n",
      " 24  Exterior 1st     2930 non-null   object \n",
      " 25  Exterior 2nd     2930 non-null   object \n",
      " 26  Mas Vnr Type     1155 non-null   object \n",
      " 27  Mas Vnr Area     2907 non-null   float64\n",
      " 28  Exter Qual       2930 non-null   object \n",
      " 29  Exter Cond       2930 non-null   object \n",
      " 30  Foundation       2930 non-null   object \n",
      " 31  Bsmt Qual        2850 non-null   object \n",
      " 32  Bsmt Cond        2850 non-null   object \n",
      " 33  Bsmt Exposure    2847 non-null   object \n",
      " 34  BsmtFin Type 1   2850 non-null   object \n",
      " 35  BsmtFin SF 1     2929 non-null   float64\n",
      " 36  BsmtFin Type 2   2849 non-null   object \n",
      " 37  BsmtFin SF 2     2929 non-null   float64\n",
      " 38  Bsmt Unf SF      2929 non-null   float64\n",
      " 39  Total Bsmt SF    2929 non-null   float64\n",
      " 40  Heating          2930 non-null   object \n",
      " 41  Heating QC       2930 non-null   object \n",
      " 42  Central Air      2930 non-null   object \n",
      " 43  Electrical       2929 non-null   object \n",
      " 44  1st Flr SF       2930 non-null   int64  \n",
      " 45  2nd Flr SF       2930 non-null   int64  \n",
      " 46  Low Qual Fin SF  2930 non-null   int64  \n",
      " 47  Gr Liv Area      2930 non-null   int64  \n",
      " 48  Bsmt Full Bath   2928 non-null   float64\n",
      " 49  Bsmt Half Bath   2928 non-null   float64\n",
      " 50  Full Bath        2930 non-null   int64  \n",
      " 51  Half Bath        2930 non-null   int64  \n",
      " 52  Bedroom AbvGr    2930 non-null   int64  \n",
      " 53  Kitchen AbvGr    2930 non-null   int64  \n",
      " 54  Kitchen Qual     2930 non-null   object \n",
      " 55  TotRms AbvGrd    2930 non-null   int64  \n",
      " 56  Functional       2930 non-null   object \n",
      " 57  Fireplaces       2930 non-null   int64  \n",
      " 58  Fireplace Qu     1508 non-null   object \n",
      " 59  Garage Type      2773 non-null   object \n",
      " 60  Garage Yr Blt    2771 non-null   float64\n",
      " 61  Garage Finish    2771 non-null   object \n",
      " 62  Garage Cars      2929 non-null   float64\n",
      " 63  Garage Area      2929 non-null   float64\n",
      " 64  Garage Qual      2771 non-null   object \n",
      " 65  Garage Cond      2771 non-null   object \n",
      " 66  Paved Drive      2930 non-null   object \n",
      " 67  Wood Deck SF     2930 non-null   int64  \n",
      " 68  Open Porch SF    2930 non-null   int64  \n",
      " 69  Enclosed Porch   2930 non-null   int64  \n",
      " 70  3Ssn Porch       2930 non-null   int64  \n",
      " 71  Screen Porch     2930 non-null   int64  \n",
      " 72  Pool Area        2930 non-null   int64  \n",
      " 73  Pool QC          13 non-null     object \n",
      " 74  Fence            572 non-null    object \n",
      " 75  Misc Feature     106 non-null    object \n",
      " 76  Misc Val         2930 non-null   int64  \n",
      " 77  Mo Sold          2930 non-null   int64  \n",
      " 78  Yr Sold          2930 non-null   int64  \n",
      " 79  Sale Type        2930 non-null   object \n",
      " 80  Sale Condition   2930 non-null   object \n",
      " 81  SalePrice        2930 non-null   int64  \n",
      "dtypes: float64(11), int64(28), object(43)\n",
      "memory usage: 1.8+ MB\n"
     ]
    }
   ],
   "source": [
    "df.info()"
   ],
   "metadata": {
    "collapsed": false,
    "ExecuteTime": {
     "end_time": "2025-10-07T07:02:45.240394Z",
     "start_time": "2025-10-07T07:02:45.225086Z"
    }
   },
   "id": "893ae20eafb28e4d",
   "execution_count": 4
  },
  {
   "cell_type": "code",
   "outputs": [
    {
     "data": {
      "text/plain": "            Order           PID  MS SubClass  Lot Frontage       Lot Area  \\\ncount  2930.00000  2.930000e+03  2930.000000   2440.000000    2930.000000   \nmean   1465.50000  7.144645e+08    57.387372     69.224590   10147.921843   \nstd     845.96247  1.887308e+08    42.638025     23.365335    7880.017759   \nmin       1.00000  5.263011e+08    20.000000     21.000000    1300.000000   \n25%     733.25000  5.284770e+08    20.000000     58.000000    7440.250000   \n50%    1465.50000  5.354536e+08    50.000000     68.000000    9436.500000   \n75%    2197.75000  9.071811e+08    70.000000     80.000000   11555.250000   \nmax    2930.00000  1.007100e+09   190.000000    313.000000  215245.000000   \n\n       Overall Qual  Overall Cond   Year Built  Year Remod/Add  Mas Vnr Area  \\\ncount   2930.000000   2930.000000  2930.000000     2930.000000   2907.000000   \nmean       6.094881      5.563140  1971.356314     1984.266553    101.896801   \nstd        1.411026      1.111537    30.245361       20.860286    179.112611   \nmin        1.000000      1.000000  1872.000000     1950.000000      0.000000   \n25%        5.000000      5.000000  1954.000000     1965.000000      0.000000   \n50%        6.000000      5.000000  1973.000000     1993.000000      0.000000   \n75%        7.000000      6.000000  2001.000000     2004.000000    164.000000   \nmax       10.000000      9.000000  2010.000000     2010.000000   1600.000000   \n\n       ...  Wood Deck SF  Open Porch SF  Enclosed Porch   3Ssn Porch  \\\ncount  ...   2930.000000    2930.000000     2930.000000  2930.000000   \nmean   ...     93.751877      47.533447       23.011604     2.592491   \nstd    ...    126.361562      67.483400       64.139059    25.141331   \nmin    ...      0.000000       0.000000        0.000000     0.000000   \n25%    ...      0.000000       0.000000        0.000000     0.000000   \n50%    ...      0.000000      27.000000        0.000000     0.000000   \n75%    ...    168.000000      70.000000        0.000000     0.000000   \nmax    ...   1424.000000     742.000000     1012.000000   508.000000   \n\n       Screen Porch    Pool Area      Misc Val      Mo Sold      Yr Sold  \\\ncount   2930.000000  2930.000000   2930.000000  2930.000000  2930.000000   \nmean      16.002048     2.243345     50.635154     6.216041  2007.790444   \nstd       56.087370    35.597181    566.344288     2.714492     1.316613   \nmin        0.000000     0.000000      0.000000     1.000000  2006.000000   \n25%        0.000000     0.000000      0.000000     4.000000  2007.000000   \n50%        0.000000     0.000000      0.000000     6.000000  2008.000000   \n75%        0.000000     0.000000      0.000000     8.000000  2009.000000   \nmax      576.000000   800.000000  17000.000000    12.000000  2010.000000   \n\n           SalePrice  \ncount    2930.000000  \nmean   180796.060068  \nstd     79886.692357  \nmin     12789.000000  \n25%    129500.000000  \n50%    160000.000000  \n75%    213500.000000  \nmax    755000.000000  \n\n[8 rows x 39 columns]",
      "text/html": "<div>\n<style scoped>\n    .dataframe tbody tr th:only-of-type {\n        vertical-align: middle;\n    }\n\n    .dataframe tbody tr th {\n        vertical-align: top;\n    }\n\n    .dataframe thead th {\n        text-align: right;\n    }\n</style>\n<table border=\"1\" class=\"dataframe\">\n  <thead>\n    <tr style=\"text-align: right;\">\n      <th></th>\n      <th>Order</th>\n      <th>PID</th>\n      <th>MS SubClass</th>\n      <th>Lot Frontage</th>\n      <th>Lot Area</th>\n      <th>Overall Qual</th>\n      <th>Overall Cond</th>\n      <th>Year Built</th>\n      <th>Year Remod/Add</th>\n      <th>Mas Vnr Area</th>\n      <th>...</th>\n      <th>Wood Deck SF</th>\n      <th>Open Porch SF</th>\n      <th>Enclosed Porch</th>\n      <th>3Ssn Porch</th>\n      <th>Screen Porch</th>\n      <th>Pool Area</th>\n      <th>Misc Val</th>\n      <th>Mo Sold</th>\n      <th>Yr Sold</th>\n      <th>SalePrice</th>\n    </tr>\n  </thead>\n  <tbody>\n    <tr>\n      <th>count</th>\n      <td>2930.00000</td>\n      <td>2.930000e+03</td>\n      <td>2930.000000</td>\n      <td>2440.000000</td>\n      <td>2930.000000</td>\n      <td>2930.000000</td>\n      <td>2930.000000</td>\n      <td>2930.000000</td>\n      <td>2930.000000</td>\n      <td>2907.000000</td>\n      <td>...</td>\n      <td>2930.000000</td>\n      <td>2930.000000</td>\n      <td>2930.000000</td>\n      <td>2930.000000</td>\n      <td>2930.000000</td>\n      <td>2930.000000</td>\n      <td>2930.000000</td>\n      <td>2930.000000</td>\n      <td>2930.000000</td>\n      <td>2930.000000</td>\n    </tr>\n    <tr>\n      <th>mean</th>\n      <td>1465.50000</td>\n      <td>7.144645e+08</td>\n      <td>57.387372</td>\n      <td>69.224590</td>\n      <td>10147.921843</td>\n      <td>6.094881</td>\n      <td>5.563140</td>\n      <td>1971.356314</td>\n      <td>1984.266553</td>\n      <td>101.896801</td>\n      <td>...</td>\n      <td>93.751877</td>\n      <td>47.533447</td>\n      <td>23.011604</td>\n      <td>2.592491</td>\n      <td>16.002048</td>\n      <td>2.243345</td>\n      <td>50.635154</td>\n      <td>6.216041</td>\n      <td>2007.790444</td>\n      <td>180796.060068</td>\n    </tr>\n    <tr>\n      <th>std</th>\n      <td>845.96247</td>\n      <td>1.887308e+08</td>\n      <td>42.638025</td>\n      <td>23.365335</td>\n      <td>7880.017759</td>\n      <td>1.411026</td>\n      <td>1.111537</td>\n      <td>30.245361</td>\n      <td>20.860286</td>\n      <td>179.112611</td>\n      <td>...</td>\n      <td>126.361562</td>\n      <td>67.483400</td>\n      <td>64.139059</td>\n      <td>25.141331</td>\n      <td>56.087370</td>\n      <td>35.597181</td>\n      <td>566.344288</td>\n      <td>2.714492</td>\n      <td>1.316613</td>\n      <td>79886.692357</td>\n    </tr>\n    <tr>\n      <th>min</th>\n      <td>1.00000</td>\n      <td>5.263011e+08</td>\n      <td>20.000000</td>\n      <td>21.000000</td>\n      <td>1300.000000</td>\n      <td>1.000000</td>\n      <td>1.000000</td>\n      <td>1872.000000</td>\n      <td>1950.000000</td>\n      <td>0.000000</td>\n      <td>...</td>\n      <td>0.000000</td>\n      <td>0.000000</td>\n      <td>0.000000</td>\n      <td>0.000000</td>\n      <td>0.000000</td>\n      <td>0.000000</td>\n      <td>0.000000</td>\n      <td>1.000000</td>\n      <td>2006.000000</td>\n      <td>12789.000000</td>\n    </tr>\n    <tr>\n      <th>25%</th>\n      <td>733.25000</td>\n      <td>5.284770e+08</td>\n      <td>20.000000</td>\n      <td>58.000000</td>\n      <td>7440.250000</td>\n      <td>5.000000</td>\n      <td>5.000000</td>\n      <td>1954.000000</td>\n      <td>1965.000000</td>\n      <td>0.000000</td>\n      <td>...</td>\n      <td>0.000000</td>\n      <td>0.000000</td>\n      <td>0.000000</td>\n      <td>0.000000</td>\n      <td>0.000000</td>\n      <td>0.000000</td>\n      <td>0.000000</td>\n      <td>4.000000</td>\n      <td>2007.000000</td>\n      <td>129500.000000</td>\n    </tr>\n    <tr>\n      <th>50%</th>\n      <td>1465.50000</td>\n      <td>5.354536e+08</td>\n      <td>50.000000</td>\n      <td>68.000000</td>\n      <td>9436.500000</td>\n      <td>6.000000</td>\n      <td>5.000000</td>\n      <td>1973.000000</td>\n      <td>1993.000000</td>\n      <td>0.000000</td>\n      <td>...</td>\n      <td>0.000000</td>\n      <td>27.000000</td>\n      <td>0.000000</td>\n      <td>0.000000</td>\n      <td>0.000000</td>\n      <td>0.000000</td>\n      <td>0.000000</td>\n      <td>6.000000</td>\n      <td>2008.000000</td>\n      <td>160000.000000</td>\n    </tr>\n    <tr>\n      <th>75%</th>\n      <td>2197.75000</td>\n      <td>9.071811e+08</td>\n      <td>70.000000</td>\n      <td>80.000000</td>\n      <td>11555.250000</td>\n      <td>7.000000</td>\n      <td>6.000000</td>\n      <td>2001.000000</td>\n      <td>2004.000000</td>\n      <td>164.000000</td>\n      <td>...</td>\n      <td>168.000000</td>\n      <td>70.000000</td>\n      <td>0.000000</td>\n      <td>0.000000</td>\n      <td>0.000000</td>\n      <td>0.000000</td>\n      <td>0.000000</td>\n      <td>8.000000</td>\n      <td>2009.000000</td>\n      <td>213500.000000</td>\n    </tr>\n    <tr>\n      <th>max</th>\n      <td>2930.00000</td>\n      <td>1.007100e+09</td>\n      <td>190.000000</td>\n      <td>313.000000</td>\n      <td>215245.000000</td>\n      <td>10.000000</td>\n      <td>9.000000</td>\n      <td>2010.000000</td>\n      <td>2010.000000</td>\n      <td>1600.000000</td>\n      <td>...</td>\n      <td>1424.000000</td>\n      <td>742.000000</td>\n      <td>1012.000000</td>\n      <td>508.000000</td>\n      <td>576.000000</td>\n      <td>800.000000</td>\n      <td>17000.000000</td>\n      <td>12.000000</td>\n      <td>2010.000000</td>\n      <td>755000.000000</td>\n    </tr>\n  </tbody>\n</table>\n<p>8 rows × 39 columns</p>\n</div>"
     },
     "execution_count": 5,
     "metadata": {},
     "output_type": "execute_result"
    }
   ],
   "source": [
    "df.describe()"
   ],
   "metadata": {
    "collapsed": false,
    "ExecuteTime": {
     "end_time": "2025-10-07T07:02:47.212066Z",
     "start_time": "2025-10-07T07:02:47.160251Z"
    }
   },
   "id": "f940e3d00c0f8a5d",
   "execution_count": 5
  },
  {
   "cell_type": "code",
   "outputs": [
    {
     "data": {
      "text/plain": "      Order    PID  MS SubClass  MS Zoning  Lot Frontage  Lot Area  Street  \\\n0     False  False        False      False         False     False   False   \n1     False  False        False      False         False     False   False   \n2     False  False        False      False         False     False   False   \n3     False  False        False      False         False     False   False   \n4     False  False        False      False         False     False   False   \n...     ...    ...          ...        ...           ...       ...     ...   \n2925  False  False        False      False         False     False   False   \n2926  False  False        False      False          True     False   False   \n2927  False  False        False      False         False     False   False   \n2928  False  False        False      False         False     False   False   \n2929  False  False        False      False         False     False   False   \n\n      Alley  Lot Shape  Land Contour  ...  Pool Area  Pool QC  Fence  \\\n0      True      False         False  ...      False     True   True   \n1      True      False         False  ...      False     True  False   \n2      True      False         False  ...      False     True   True   \n3      True      False         False  ...      False     True   True   \n4      True      False         False  ...      False     True  False   \n...     ...        ...           ...  ...        ...      ...    ...   \n2925   True      False         False  ...      False     True  False   \n2926   True      False         False  ...      False     True  False   \n2927   True      False         False  ...      False     True  False   \n2928   True      False         False  ...      False     True   True   \n2929   True      False         False  ...      False     True   True   \n\n      Misc Feature  Misc Val  Mo Sold  Yr Sold  Sale Type  Sale Condition  \\\n0             True     False    False    False      False           False   \n1             True     False    False    False      False           False   \n2            False     False    False    False      False           False   \n3             True     False    False    False      False           False   \n4             True     False    False    False      False           False   \n...            ...       ...      ...      ...        ...             ...   \n2925          True     False    False    False      False           False   \n2926          True     False    False    False      False           False   \n2927         False     False    False    False      False           False   \n2928          True     False    False    False      False           False   \n2929          True     False    False    False      False           False   \n\n      SalePrice  \n0         False  \n1         False  \n2         False  \n3         False  \n4         False  \n...         ...  \n2925      False  \n2926      False  \n2927      False  \n2928      False  \n2929      False  \n\n[2930 rows x 82 columns]",
      "text/html": "<div>\n<style scoped>\n    .dataframe tbody tr th:only-of-type {\n        vertical-align: middle;\n    }\n\n    .dataframe tbody tr th {\n        vertical-align: top;\n    }\n\n    .dataframe thead th {\n        text-align: right;\n    }\n</style>\n<table border=\"1\" class=\"dataframe\">\n  <thead>\n    <tr style=\"text-align: right;\">\n      <th></th>\n      <th>Order</th>\n      <th>PID</th>\n      <th>MS SubClass</th>\n      <th>MS Zoning</th>\n      <th>Lot Frontage</th>\n      <th>Lot Area</th>\n      <th>Street</th>\n      <th>Alley</th>\n      <th>Lot Shape</th>\n      <th>Land Contour</th>\n      <th>...</th>\n      <th>Pool Area</th>\n      <th>Pool QC</th>\n      <th>Fence</th>\n      <th>Misc Feature</th>\n      <th>Misc Val</th>\n      <th>Mo Sold</th>\n      <th>Yr Sold</th>\n      <th>Sale Type</th>\n      <th>Sale Condition</th>\n      <th>SalePrice</th>\n    </tr>\n  </thead>\n  <tbody>\n    <tr>\n      <th>0</th>\n      <td>False</td>\n      <td>False</td>\n      <td>False</td>\n      <td>False</td>\n      <td>False</td>\n      <td>False</td>\n      <td>False</td>\n      <td>True</td>\n      <td>False</td>\n      <td>False</td>\n      <td>...</td>\n      <td>False</td>\n      <td>True</td>\n      <td>True</td>\n      <td>True</td>\n      <td>False</td>\n      <td>False</td>\n      <td>False</td>\n      <td>False</td>\n      <td>False</td>\n      <td>False</td>\n    </tr>\n    <tr>\n      <th>1</th>\n      <td>False</td>\n      <td>False</td>\n      <td>False</td>\n      <td>False</td>\n      <td>False</td>\n      <td>False</td>\n      <td>False</td>\n      <td>True</td>\n      <td>False</td>\n      <td>False</td>\n      <td>...</td>\n      <td>False</td>\n      <td>True</td>\n      <td>False</td>\n      <td>True</td>\n      <td>False</td>\n      <td>False</td>\n      <td>False</td>\n      <td>False</td>\n      <td>False</td>\n      <td>False</td>\n    </tr>\n    <tr>\n      <th>2</th>\n      <td>False</td>\n      <td>False</td>\n      <td>False</td>\n      <td>False</td>\n      <td>False</td>\n      <td>False</td>\n      <td>False</td>\n      <td>True</td>\n      <td>False</td>\n      <td>False</td>\n      <td>...</td>\n      <td>False</td>\n      <td>True</td>\n      <td>True</td>\n      <td>False</td>\n      <td>False</td>\n      <td>False</td>\n      <td>False</td>\n      <td>False</td>\n      <td>False</td>\n      <td>False</td>\n    </tr>\n    <tr>\n      <th>3</th>\n      <td>False</td>\n      <td>False</td>\n      <td>False</td>\n      <td>False</td>\n      <td>False</td>\n      <td>False</td>\n      <td>False</td>\n      <td>True</td>\n      <td>False</td>\n      <td>False</td>\n      <td>...</td>\n      <td>False</td>\n      <td>True</td>\n      <td>True</td>\n      <td>True</td>\n      <td>False</td>\n      <td>False</td>\n      <td>False</td>\n      <td>False</td>\n      <td>False</td>\n      <td>False</td>\n    </tr>\n    <tr>\n      <th>4</th>\n      <td>False</td>\n      <td>False</td>\n      <td>False</td>\n      <td>False</td>\n      <td>False</td>\n      <td>False</td>\n      <td>False</td>\n      <td>True</td>\n      <td>False</td>\n      <td>False</td>\n      <td>...</td>\n      <td>False</td>\n      <td>True</td>\n      <td>False</td>\n      <td>True</td>\n      <td>False</td>\n      <td>False</td>\n      <td>False</td>\n      <td>False</td>\n      <td>False</td>\n      <td>False</td>\n    </tr>\n    <tr>\n      <th>...</th>\n      <td>...</td>\n      <td>...</td>\n      <td>...</td>\n      <td>...</td>\n      <td>...</td>\n      <td>...</td>\n      <td>...</td>\n      <td>...</td>\n      <td>...</td>\n      <td>...</td>\n      <td>...</td>\n      <td>...</td>\n      <td>...</td>\n      <td>...</td>\n      <td>...</td>\n      <td>...</td>\n      <td>...</td>\n      <td>...</td>\n      <td>...</td>\n      <td>...</td>\n      <td>...</td>\n    </tr>\n    <tr>\n      <th>2925</th>\n      <td>False</td>\n      <td>False</td>\n      <td>False</td>\n      <td>False</td>\n      <td>False</td>\n      <td>False</td>\n      <td>False</td>\n      <td>True</td>\n      <td>False</td>\n      <td>False</td>\n      <td>...</td>\n      <td>False</td>\n      <td>True</td>\n      <td>False</td>\n      <td>True</td>\n      <td>False</td>\n      <td>False</td>\n      <td>False</td>\n      <td>False</td>\n      <td>False</td>\n      <td>False</td>\n    </tr>\n    <tr>\n      <th>2926</th>\n      <td>False</td>\n      <td>False</td>\n      <td>False</td>\n      <td>False</td>\n      <td>True</td>\n      <td>False</td>\n      <td>False</td>\n      <td>True</td>\n      <td>False</td>\n      <td>False</td>\n      <td>...</td>\n      <td>False</td>\n      <td>True</td>\n      <td>False</td>\n      <td>True</td>\n      <td>False</td>\n      <td>False</td>\n      <td>False</td>\n      <td>False</td>\n      <td>False</td>\n      <td>False</td>\n    </tr>\n    <tr>\n      <th>2927</th>\n      <td>False</td>\n      <td>False</td>\n      <td>False</td>\n      <td>False</td>\n      <td>False</td>\n      <td>False</td>\n      <td>False</td>\n      <td>True</td>\n      <td>False</td>\n      <td>False</td>\n      <td>...</td>\n      <td>False</td>\n      <td>True</td>\n      <td>False</td>\n      <td>False</td>\n      <td>False</td>\n      <td>False</td>\n      <td>False</td>\n      <td>False</td>\n      <td>False</td>\n      <td>False</td>\n    </tr>\n    <tr>\n      <th>2928</th>\n      <td>False</td>\n      <td>False</td>\n      <td>False</td>\n      <td>False</td>\n      <td>False</td>\n      <td>False</td>\n      <td>False</td>\n      <td>True</td>\n      <td>False</td>\n      <td>False</td>\n      <td>...</td>\n      <td>False</td>\n      <td>True</td>\n      <td>True</td>\n      <td>True</td>\n      <td>False</td>\n      <td>False</td>\n      <td>False</td>\n      <td>False</td>\n      <td>False</td>\n      <td>False</td>\n    </tr>\n    <tr>\n      <th>2929</th>\n      <td>False</td>\n      <td>False</td>\n      <td>False</td>\n      <td>False</td>\n      <td>False</td>\n      <td>False</td>\n      <td>False</td>\n      <td>True</td>\n      <td>False</td>\n      <td>False</td>\n      <td>...</td>\n      <td>False</td>\n      <td>True</td>\n      <td>True</td>\n      <td>True</td>\n      <td>False</td>\n      <td>False</td>\n      <td>False</td>\n      <td>False</td>\n      <td>False</td>\n      <td>False</td>\n    </tr>\n  </tbody>\n</table>\n<p>2930 rows × 82 columns</p>\n</div>"
     },
     "execution_count": 6,
     "metadata": {},
     "output_type": "execute_result"
    }
   ],
   "source": [
    "df.isnull()"
   ],
   "metadata": {
    "collapsed": false,
    "ExecuteTime": {
     "end_time": "2025-10-07T07:02:52.890400Z",
     "start_time": "2025-10-07T07:02:52.866354Z"
    }
   },
   "id": "9daf929c502524b9",
   "execution_count": 6
  },
  {
   "cell_type": "code",
   "outputs": [
    {
     "data": {
      "text/plain": "Order               0\nPID                 0\nMS SubClass         0\nMS Zoning           0\nLot Frontage      490\n                 ... \nMo Sold             0\nYr Sold             0\nSale Type           0\nSale Condition      0\nSalePrice           0\nLength: 82, dtype: int64"
     },
     "execution_count": 7,
     "metadata": {},
     "output_type": "execute_result"
    }
   ],
   "source": [
    "df.isnull().sum()"
   ],
   "metadata": {
    "collapsed": false,
    "ExecuteTime": {
     "end_time": "2025-10-07T07:02:54.940255Z",
     "start_time": "2025-10-07T07:02:54.914048Z"
    }
   },
   "id": "b90fe21befe0fdd8",
   "execution_count": 7
  },
  {
   "cell_type": "markdown",
   "source": [],
   "metadata": {
    "collapsed": false
   },
   "id": "82aaa56373f75f92"
  },
  {
   "cell_type": "code",
   "outputs": [
    {
     "data": {
      "text/plain": "Pool QC           2917\nMisc Feature      2824\nAlley             2732\nFence             2358\nMas Vnr Type      1775\nFireplace Qu      1422\nLot Frontage       490\nGarage Qual        159\nGarage Cond        159\nGarage Yr Blt      159\nGarage Finish      159\nGarage Type        157\nBsmt Exposure       83\nBsmtFin Type 2      81\nBsmt Cond           80\nBsmt Qual           80\nBsmtFin Type 1      80\nMas Vnr Area        23\nBsmt Full Bath       2\nBsmt Half Bath       2\nBsmtFin SF 1         1\nBsmtFin SF 2         1\nElectrical           1\nTotal Bsmt SF        1\nBsmt Unf SF          1\nGarage Area          1\nGarage Cars          1\ndtype: int64"
     },
     "execution_count": 9,
     "metadata": {},
     "output_type": "execute_result"
    }
   ],
   "source": [
    "missing = df.isnull().sum()[df.isnull().sum() > 0]\n",
    "missing.sort_values(ascending=False)"
   ],
   "metadata": {
    "collapsed": false,
    "ExecuteTime": {
     "end_time": "2025-10-07T07:03:01.066877Z",
     "start_time": "2025-10-07T07:03:01.054522Z"
    }
   },
   "id": "468e6793e0af182f",
   "execution_count": 9
  },
  {
   "cell_type": "code",
   "outputs": [
    {
     "data": {
      "text/plain": "<Axes: >"
     },
     "execution_count": 10,
     "metadata": {},
     "output_type": "execute_result"
    },
    {
     "data": {
      "text/plain": "<Figure size 640x480 with 1 Axes>",
      "image/png": "[encoded data removed]"
     },
     "metadata": {},
     "output_type": "display_data"
    }
   ],
   "source": [
    "missing.plot(kind='bar')"
   ],
   "metadata": {
    "collapsed": false,
    "ExecuteTime": {
     "end_time": "2025-10-07T07:03:03.523558Z",
     "start_time": "2025-10-07T07:03:02.650092Z"
    }
   },
   "id": "6654754e08b6fa4b",
   "execution_count": 10
  },
  {
   "cell_type": "markdown",
   "source": [
    "Alley, PoolQC, Fence, MiscFeature have a lot of missing values. We will drop these columns."
   ],
   "metadata": {
    "collapsed": false
   },
   "id": "48a4c62bc7f9276"
  },
  {
   "cell_type": "code",
   "outputs": [],
   "source": [
    "df = df.drop(columns=['Alley', 'Pool QC', 'Fence', 'Misc Feature'])"
   ],
   "metadata": {
    "collapsed": false,
    "ExecuteTime": {
     "end_time": "2025-10-07T07:03:08.190909Z",
     "start_time": "2025-10-07T07:03:08.185159Z"
    }
   },
   "id": "7758a4d8f40e47f",
   "execution_count": 11
  },
  {
   "cell_type": "code",
   "outputs": [
    {
     "data": {
      "text/plain": "<bound method DataFrame.info of       Order        PID  MS SubClass MS Zoning  Lot Frontage  Lot Area Street  \\\n0         1  526301100           20        RL         141.0     31770   Pave   \n1         2  526350040           20        RH          80.0     11622   Pave   \n2         3  526351010           20        RL          81.0     14267   Pave   \n3         4  526353030           20        RL          93.0     11160   Pave   \n4         5  527105010           60        RL          74.0     13830   Pave   \n...     ...        ...          ...       ...           ...       ...    ...   \n2925   2926  923275080           80        RL          37.0      7937   Pave   \n2926   2927  923276100           20        RL           NaN      8885   Pave   \n2927   2928  923400125           85        RL          62.0     10441   Pave   \n2928   2929  924100070           20        RL          77.0     10010   Pave   \n2929   2930  924151050           60        RL          74.0      9627   Pave   \n\n     Lot Shape Land Contour Utilities  ... Enclosed Porch 3Ssn Porch  \\\n0          IR1          Lvl    AllPub  ...              0          0   \n1          Reg          Lvl    AllPub  ...              0          0   \n2          IR1          Lvl    AllPub  ...              0          0   \n3          Reg          Lvl    AllPub  ...              0          0   \n4          IR1          Lvl    AllPub  ...              0          0   \n...        ...          ...       ...  ...            ...        ...   \n2925       IR1          Lvl    AllPub  ...              0          0   \n2926       IR1          Low    AllPub  ...              0          0   \n2927       Reg          Lvl    AllPub  ...              0          0   \n2928       Reg          Lvl    AllPub  ...              0          0   \n2929       Reg          Lvl    AllPub  ...              0          0   \n\n     Screen Porch Pool Area Misc Val Mo Sold Yr Sold  Sale Type  \\\n0               0         0        0       5    2010        WD    \n1             120         0        0       6    2010        WD    \n2               0         0    12500       6    2010        WD    \n3               0         0        0       4    2010        WD    \n4               0         0        0       3    2010        WD    \n...           ...       ...      ...     ...     ...        ...   \n2925            0         0        0       3    2006        WD    \n2926            0         0        0       6    2006        WD    \n2927            0         0      700       7    2006        WD    \n2928            0         0        0       4    2006        WD    \n2929            0         0        0      11    2006        WD    \n\n      Sale Condition  SalePrice  \n0             Normal     215000  \n1             Normal     105000  \n2             Normal     172000  \n3             Normal     244000  \n4             Normal     189900  \n...              ...        ...  \n2925          Normal     142500  \n2926          Normal     131000  \n2927          Normal     132000  \n2928          Normal     170000  \n2929          Normal     188000  \n\n[2930 rows x 78 columns]>"
     },
     "execution_count": 12,
     "metadata": {},
     "output_type": "execute_result"
    }
   ],
   "source": [
    "df.info"
   ],
   "metadata": {
    "collapsed": false,
    "ExecuteTime": {
     "end_time": "2025-10-07T07:03:10.164826Z",
     "start_time": "2025-10-07T07:03:10.155346Z"
    }
   },
   "id": "f9763e10b222529b",
   "execution_count": 12
  },
  {
   "cell_type": "markdown",
   "source": [
    "We noticed we could combine Fireplace and FireplaceQu into a single column, a boolean colmumn indicating whether a house has a fireplace or not."
   ],
   "metadata": {
    "collapsed": false
   },
   "id": "a08a356f8e78e5c4"
  },
  {
   "cell_type": "code",
   "outputs": [],
   "source": [
    "df['Has Fireplace'] = df['Fireplaces'] > 0"
   ],
   "metadata": {
    "collapsed": false,
    "ExecuteTime": {
     "end_time": "2025-10-07T07:03:15.270988Z",
     "start_time": "2025-10-07T07:03:15.267190Z"
    }
   },
   "id": "e8a6243981268d4f",
   "execution_count": 13
  },
  {
   "cell_type": "code",
   "outputs": [
    {
     "data": {
      "text/plain": "    Has Fireplace  Fireplaces\n0            True           2\n1           False           0\n2           False           0\n3            True           2\n4            True           1\n5            True           1\n6           False           0\n7           False           0\n8            True           1\n9            True           1\n10           True           1\n11          False           0\n12           True           1\n13           True           1\n14          False           0\n15           True           1\n16          False           0\n17           True           1\n18          False           0\n19           True           2",
      "text/html": "<div>\n<style scoped>\n    .dataframe tbody tr th:only-of-type {\n        vertical-align: middle;\n    }\n\n    .dataframe tbody tr th {\n        vertical-align: top;\n    }\n\n    .dataframe thead th {\n        text-align: right;\n    }\n</style>\n<table border=\"1\" class=\"dataframe\">\n  <thead>\n    <tr style=\"text-align: right;\">\n      <th></th>\n      <th>Has Fireplace</th>\n      <th>Fireplaces</th>\n    </tr>\n  </thead>\n  <tbody>\n    <tr>\n      <th>0</th>\n      <td>True</td>\n      <td>2</td>\n    </tr>\n    <tr>\n      <th>1</th>\n      <td>False</td>\n      <td>0</td>\n    </tr>\n    <tr>\n      <th>2</th>\n      <td>False</td>\n      <td>0</td>\n    </tr>\n    <tr>\n      <th>3</th>\n      <td>True</td>\n      <td>2</td>\n    </tr>\n    <tr>\n      <th>4</th>\n      <td>True</td>\n      <td>1</td>\n    </tr>\n    <tr>\n      <th>5</th>\n      <td>True</td>\n      <td>1</td>\n    </tr>\n    <tr>\n      <th>6</th>\n      <td>False</td>\n      <td>0</td>\n    </tr>\n    <tr>\n      <th>7</th>\n      <td>False</td>\n      <td>0</td>\n    </tr>\n    <tr>\n      <th>8</th>\n      <td>True</td>\n      <td>1</td>\n    </tr>\n    <tr>\n      <th>9</th>\n      <td>True</td>\n      <td>1</td>\n    </tr>\n    <tr>\n      <th>10</th>\n      <td>True</td>\n      <td>1</td>\n    </tr>\n    <tr>\n      <th>11</th>\n      <td>False</td>\n      <td>0</td>\n    </tr>\n    <tr>\n      <th>12</th>\n      <td>True</td>\n      <td>1</td>\n    </tr>\n    <tr>\n      <th>13</th>\n      <td>True</td>\n      <td>1</td>\n    </tr>\n    <tr>\n      <th>14</th>\n      <td>False</td>\n      <td>0</td>\n    </tr>\n    <tr>\n      <th>15</th>\n      <td>True</td>\n      <td>1</td>\n    </tr>\n    <tr>\n      <th>16</th>\n      <td>False</td>\n      <td>0</td>\n    </tr>\n    <tr>\n      <th>17</th>\n      <td>True</td>\n      <td>1</td>\n    </tr>\n    <tr>\n      <th>18</th>\n      <td>False</td>\n      <td>0</td>\n    </tr>\n    <tr>\n      <th>19</th>\n      <td>True</td>\n      <td>2</td>\n    </tr>\n  </tbody>\n</table>\n</div>"
     },
     "execution_count": 14,
     "metadata": {},
     "output_type": "execute_result"
    }
   ],
   "source": [
    "df[['Has Fireplace','Fireplaces']].head(20)"
   ],
   "metadata": {
    "collapsed": false,
    "ExecuteTime": {
     "end_time": "2025-10-07T07:03:16.486379Z",
     "start_time": "2025-10-07T07:03:16.478461Z"
    }
   },
   "id": "e731c29d12e449a7",
   "execution_count": 14
  },
  {
   "cell_type": "code",
   "outputs": [],
   "source": [
    "df = df.drop(columns=['Fireplaces', 'Fireplace Qu'])"
   ],
   "metadata": {
    "collapsed": false,
    "ExecuteTime": {
     "end_time": "2025-10-07T07:03:17.980731Z",
     "start_time": "2025-10-07T07:03:17.974169Z"
    }
   },
   "id": "1c846cbde4cf375a",
   "execution_count": 15
  },
  {
   "cell_type": "code",
   "outputs": [
    {
     "name": "stdout",
     "output_type": "stream",
     "text": [
      "<class 'pandas.core.frame.DataFrame'>\n",
      "RangeIndex: 2930 entries, 0 to 2929\n",
      "Data columns (total 77 columns):\n",
      " #   Column           Non-Null Count  Dtype  \n",
      "---  ------           --------------  -----  \n",
      " 0   Order            2930 non-null   int64  \n",
      " 1   PID              2930 non-null   int64  \n",
      " 2   MS SubClass      2930 non-null   int64  \n",
      " 3   MS Zoning        2930 non-null   object \n",
      " 4   Lot Frontage     2440 non-null   float64\n",
      " 5   Lot Area         2930 non-null   int64  \n",
      " 6   Street           2930 non-null   object \n",
      " 7   Lot Shape        2930 non-null   object \n",
      " 8   Land Contour     2930 non-null   object \n",
      " 9   Utilities        2930 non-null   object \n",
      " 10  Lot Config       2930 non-null   object \n",
      " 11  Land Slope       2930 non-null   object \n",
      " 12  Neighborhood     2930 non-null   object \n",
      " 13  Condition 1      2930 non-null   object \n",
      " 14  Condition 2      2930 non-null   object \n",
      " 15  Bldg Type        2930 non-null   object \n",
      " 16  House Style      2930 non-null   object \n",
      " 17  Overall Qual     2930 non-null   int64  \n",
      " 18  Overall Cond     2930 non-null   int64  \n",
      " 19  Year Built       2930 non-null   int64  \n",
      " 20  Year Remod/Add   2930 non-null   int64  \n",
      " 21  Roof Style       2930 non-null   object \n",
      " 22  Roof Matl        2930 non-null   object \n",
      " 23  Exterior 1st     2930 non-null   object \n",
      " 24  Exterior 2nd     2930 non-null   object \n",
      " 25  Mas Vnr Type     1155 non-null   object \n",
      " 26  Mas Vnr Area     2907 non-null   float64\n",
      " 27  Exter Qual       2930 non-null   object \n",
      " 28  Exter Cond       2930 non-null   object \n",
      " 29  Foundation       2930 non-null   object \n",
      " 30  Bsmt Qual        2850 non-null   object \n",
      " 31  Bsmt Cond        2850 non-null   object \n",
      " 32  Bsmt Exposure    2847 non-null   object \n",
      " 33  BsmtFin Type 1   2850 non-null   object \n",
      " 34  BsmtFin SF 1     2929 non-null   float64\n",
      " 35  BsmtFin Type 2   2849 non-null   object \n",
      " 36  BsmtFin SF 2     2929 non-null   float64\n",
      " 37  Bsmt Unf SF      2929 non-null   float64\n",
      " 38  Total Bsmt SF    2929 non-null   float64\n",
      " 39  Heating          2930 non-null   object \n",
      " 40  Heating QC       2930 non-null   object \n",
      " 41  Central Air      2930 non-null   object \n",
      " 42  Electrical       2929 non-null   object \n",
      " 43  1st Flr SF       2930 non-null   int64  \n",
      " 44  2nd Flr SF       2930 non-null   int64  \n",
      " 45  Low Qual Fin SF  2930 non-null   int64  \n",
      " 46  Gr Liv Area      2930 non-null   int64  \n",
      " 47  Bsmt Full Bath   2928 non-null   float64\n",
      " 48  Bsmt Half Bath   2928 non-null   float64\n",
      " 49  Full Bath        2930 non-null   int64  \n",
      " 50  Half Bath        2930 non-null   int64  \n",
      " 51  Bedroom AbvGr    2930 non-null   int64  \n",
      " 52  Kitchen AbvGr    2930 non-null   int64  \n",
      " 53  Kitchen Qual     2930 non-null   object \n",
      " 54  TotRms AbvGrd    2930 non-null   int64  \n",
      " 55  Functional       2930 non-null   object \n",
      " 56  Garage Type      2773 non-null   object \n",
      " 57  Garage Yr Blt    2771 non-null   float64\n",
      " 58  Garage Finish    2771 non-null   object \n",
      " 59  Garage Cars      2929 non-null   float64\n",
      " 60  Garage Area      2929 non-null   float64\n",
      " 61  Garage Qual      2771 non-null   object \n",
      " 62  Garage Cond      2771 non-null   object \n",
      " 63  Paved Drive      2930 non-null   object \n",
      " 64  Wood Deck SF     2930 non-null   int64  \n",
      " 65  Open Porch SF    2930 non-null   int64  \n",
      " 66  Enclosed Porch   2930 non-null   int64  \n",
      " 67  3Ssn Porch       2930 non-null   int64  \n",
      " 68  Screen Porch     2930 non-null   int64  \n",
      " 69  Pool Area        2930 non-null   int64  \n",
      " 70  Misc Val         2930 non-null   int64  \n",
      " 71  Mo Sold          2930 non-null   int64  \n",
      " 72  Yr Sold          2930 non-null   int64  \n",
      " 73  Sale Type        2930 non-null   object \n",
      " 74  Sale Condition   2930 non-null   object \n",
      " 75  SalePrice        2930 non-null   int64  \n",
      " 76  Has Fireplace    2930 non-null   bool   \n",
      "dtypes: bool(1), float64(11), int64(27), object(38)\n",
      "memory usage: 1.7+ MB\n"
     ]
    }
   ],
   "source": [
    "df.info()"
   ],
   "metadata": {
    "collapsed": false,
    "ExecuteTime": {
     "end_time": "2025-10-07T07:03:19.153186Z",
     "start_time": "2025-10-07T07:03:19.139915Z"
    }
   },
   "id": "547123704565944b",
   "execution_count": 16
  },
  {
   "cell_type": "markdown",
   "source": [
    "Checking the names of all the columns."
   ],
   "metadata": {
    "collapsed": false
   },
   "id": "beca141997e92464"
  },
  {
   "cell_type": "markdown",
   "source": [],
   "metadata": {
    "collapsed": false
   },
   "id": "9e72c99bdf0bc601"
  },
  {
   "cell_type": "markdown",
   "source": [
    "Checking the correlation of Land Slope and Land Contour with SalePrice."
   ],
   "metadata": {
    "collapsed": false
   },
   "id": "6e1f7503b85bec47"
  },
  {
   "cell_type": "code",
   "outputs": [
    {
     "data": {
      "text/plain": "  Land Slope Land Contour  SalePrice\n0        Gtl          Lvl     215000\n1        Gtl          Lvl     105000\n2        Gtl          Lvl     172000\n3        Gtl          Lvl     244000\n4        Gtl          Lvl     189900",
      "text/html": "<div>\n<style scoped>\n    .dataframe tbody tr th:only-of-type {\n        vertical-align: middle;\n    }\n\n    .dataframe tbody tr th {\n        vertical-align: top;\n    }\n\n    .dataframe thead th {\n        text-align: right;\n    }\n</style>\n<table border=\"1\" class=\"dataframe\">\n  <thead>\n    <tr style=\"text-align: right;\">\n      <th></th>\n      <th>Land Slope</th>\n      <th>Land Contour</th>\n      <th>SalePrice</th>\n    </tr>\n  </thead>\n  <tbody>\n    <tr>\n      <th>0</th>\n      <td>Gtl</td>\n      <td>Lvl</td>\n      <td>215000</td>\n    </tr>\n    <tr>\n      <th>1</th>\n      <td>Gtl</td>\n      <td>Lvl</td>\n      <td>105000</td>\n    </tr>\n    <tr>\n      <th>2</th>\n      <td>Gtl</td>\n      <td>Lvl</td>\n      <td>172000</td>\n    </tr>\n    <tr>\n      <th>3</th>\n      <td>Gtl</td>\n      <td>Lvl</td>\n      <td>244000</td>\n    </tr>\n    <tr>\n      <th>4</th>\n      <td>Gtl</td>\n      <td>Lvl</td>\n      <td>189900</td>\n    </tr>\n  </tbody>\n</table>\n</div>"
     },
     "execution_count": 17,
     "metadata": {},
     "output_type": "execute_result"
    }
   ],
   "source": [
    "df[['Land Slope', 'Land Contour', 'SalePrice']].head()"
   ],
   "metadata": {
    "collapsed": false,
    "ExecuteTime": {
     "end_time": "2025-10-07T07:03:25.285310Z",
     "start_time": "2025-10-07T07:03:25.276909Z"
    }
   },
   "id": "ee71f5341272537c",
   "execution_count": 17
  },
  {
   "cell_type": "markdown",
   "source": [
    "Checking how many entries of the pair Land Slope = Gtl and Land Contour = HLS."
   ],
   "metadata": {
    "collapsed": false
   },
   "id": "98310c98bc1b44be"
  },
  {
   "cell_type": "code",
   "outputs": [
    {
     "data": {
      "text/plain": "      Order        PID  MS SubClass MS Zoning  Lot Frontage  Lot Area Street  \\\n7         8  527145080          120        RL          43.0      5005   Pave   \n280     281  908203100           20        RL          64.0      6410   Pave   \n303     304  910205120           50        RM          50.0      9140   Pave   \n321     322  921128020           20        RL          89.0     13214   Pave   \n347     348  527108070           20        RL          42.0     14892   Pave   \n...     ...        ...          ...       ...           ...       ...    ...   \n2617   2618  535425080           60        RL           NaN     18275   Pave   \n2730   2731  905351045          150        RL           NaN      1700   Pave   \n2821   2822  908127050           20        RL          73.0     16133   Pave   \n2851   2852  909250200           70        RL          69.0      4899   Pave   \n2865   2866  909282060           70        RL          70.0     12320   Pave   \n\n     Lot Shape Land Contour Utilities  ... 3Ssn Porch Screen Porch Pool Area  \\\n7          IR1          HLS    AllPub  ...          0          144         0   \n280        Reg          HLS    AllPub  ...          0            0         0   \n303        Reg          HLS    AllPub  ...          0          200         0   \n321        IR1          HLS    AllPub  ...          0            0         0   \n347        IR1          HLS    AllPub  ...          0            0         0   \n...        ...          ...       ...  ...        ...          ...       ...   \n2617       IR1          HLS    AllPub  ...          0            0         0   \n2730       Reg          HLS    AllPub  ...          0          200         0   \n2821       Reg          HLS    AllPub  ...          0          112         0   \n2851       Reg          HLS    AllPub  ...          0            0         0   \n2865       IR1          HLS    AllPub  ...          0          104         0   \n\n     Misc Val Mo Sold Yr Sold Sale Type  Sale Condition  SalePrice  \\\n7           0       1    2010       WD           Normal     191500   \n280         0       5    2010       WD           Normal      90000   \n303         0       4    2010       COD          Normal     110000   \n321         0       5    2010       WD           Normal     378500   \n347         0      10    2009       WD           Normal     377500   \n...       ...     ...     ...       ...             ...        ...   \n2617        0       9    2006       WD           Normal     277500   \n2730        0       4    2006       WD           Normal     148400   \n2821        0      12    2006       WD          Abnorml     119900   \n2851        0       6    2006       WD           Normal     149000   \n2865        0       5    2006       WD           Normal     199500   \n\n      Has Fireplace  \n7             False  \n280           False  \n303           False  \n321            True  \n347            True  \n...             ...  \n2617           True  \n2730          False  \n2821          False  \n2851          False  \n2865           True  \n\n[79 rows x 77 columns]",
      "text/html": "<div>\n<style scoped>\n    .dataframe tbody tr th:only-of-type {\n        vertical-align: middle;\n    }\n\n    .dataframe tbody tr th {\n        vertical-align: top;\n    }\n\n    .dataframe thead th {\n        text-align: right;\n    }\n</style>\n<table border=\"1\" class=\"dataframe\">\n  <thead>\n    <tr style=\"text-align: right;\">\n      <th></th>\n      <th>Order</th>\n      <th>PID</th>\n      <th>MS SubClass</th>\n      <th>MS Zoning</th>\n      <th>Lot Frontage</th>\n      <th>Lot Area</th>\n      <th>Street</th>\n      <th>Lot Shape</th>\n      <th>Land Contour</th>\n      <th>Utilities</th>\n      <th>...</th>\n      <th>3Ssn Porch</th>\n      <th>Screen Porch</th>\n      <th>Pool Area</th>\n      <th>Misc Val</th>\n      <th>Mo Sold</th>\n      <th>Yr Sold</th>\n      <th>Sale Type</th>\n      <th>Sale Condition</th>\n      <th>SalePrice</th>\n      <th>Has Fireplace</th>\n    </tr>\n  </thead>\n  <tbody>\n    <tr>\n      <th>7</th>\n      <td>8</td>\n      <td>527145080</td>\n      <td>120</td>\n      <td>RL</td>\n      <td>43.0</td>\n      <td>5005</td>\n      <td>Pave</td>\n      <td>IR1</td>\n      <td>HLS</td>\n      <td>AllPub</td>\n      <td>...</td>\n      <td>0</td>\n      <td>144</td>\n      <td>0</td>\n      <td>0</td>\n      <td>1</td>\n      <td>2010</td>\n      <td>WD</td>\n      <td>Normal</td>\n      <td>191500</td>\n      <td>False</td>\n    </tr>\n    <tr>\n      <th>280</th>\n      <td>281</td>\n      <td>908203100</td>\n      <td>20</td>\n      <td>RL</td>\n      <td>64.0</td>\n      <td>6410</td>\n      <td>Pave</td>\n      <td>Reg</td>\n      <td>HLS</td>\n      <td>AllPub</td>\n      <td>...</td>\n      <td>0</td>\n      <td>0</td>\n      <td>0</td>\n      <td>0</td>\n      <td>5</td>\n      <td>2010</td>\n      <td>WD</td>\n      <td>Normal</td>\n      <td>90000</td>\n      <td>False</td>\n    </tr>\n    <tr>\n      <th>303</th>\n      <td>304</td>\n      <td>910205120</td>\n      <td>50</td>\n      <td>RM</td>\n      <td>50.0</td>\n      <td>9140</td>\n      <td>Pave</td>\n      <td>Reg</td>\n      <td>HLS</td>\n      <td>AllPub</td>\n      <td>...</td>\n      <td>0</td>\n      <td>200</td>\n      <td>0</td>\n      <td>0</td>\n      <td>4</td>\n      <td>2010</td>\n      <td>COD</td>\n      <td>Normal</td>\n      <td>110000</td>\n      <td>False</td>\n    </tr>\n    <tr>\n      <th>321</th>\n      <td>322</td>\n      <td>921128020</td>\n      <td>20</td>\n      <td>RL</td>\n      <td>89.0</td>\n      <td>13214</td>\n      <td>Pave</td>\n      <td>IR1</td>\n      <td>HLS</td>\n      <td>AllPub</td>\n      <td>...</td>\n      <td>0</td>\n      <td>0</td>\n      <td>0</td>\n      <td>0</td>\n      <td>5</td>\n      <td>2010</td>\n      <td>WD</td>\n      <td>Normal</td>\n      <td>378500</td>\n      <td>True</td>\n    </tr>\n    <tr>\n      <th>347</th>\n      <td>348</td>\n      <td>527108070</td>\n      <td>20</td>\n      <td>RL</td>\n      <td>42.0</td>\n      <td>14892</td>\n      <td>Pave</td>\n      <td>IR1</td>\n      <td>HLS</td>\n      <td>AllPub</td>\n      <td>...</td>\n      <td>0</td>\n      <td>0</td>\n      <td>0</td>\n      <td>0</td>\n      <td>10</td>\n      <td>2009</td>\n      <td>WD</td>\n      <td>Normal</td>\n      <td>377500</td>\n      <td>True</td>\n    </tr>\n    <tr>\n      <th>...</th>\n      <td>...</td>\n      <td>...</td>\n      <td>...</td>\n      <td>...</td>\n      <td>...</td>\n      <td>...</td>\n      <td>...</td>\n      <td>...</td>\n      <td>...</td>\n      <td>...</td>\n      <td>...</td>\n      <td>...</td>\n      <td>...</td>\n      <td>...</td>\n      <td>...</td>\n      <td>...</td>\n      <td>...</td>\n      <td>...</td>\n      <td>...</td>\n      <td>...</td>\n      <td>...</td>\n    </tr>\n    <tr>\n      <th>2617</th>\n      <td>2618</td>\n      <td>535425080</td>\n      <td>60</td>\n      <td>RL</td>\n      <td>NaN</td>\n      <td>18275</td>\n      <td>Pave</td>\n      <td>IR1</td>\n      <td>HLS</td>\n      <td>AllPub</td>\n      <td>...</td>\n      <td>0</td>\n      <td>0</td>\n      <td>0</td>\n      <td>0</td>\n      <td>9</td>\n      <td>2006</td>\n      <td>WD</td>\n      <td>Normal</td>\n      <td>277500</td>\n      <td>True</td>\n    </tr>\n    <tr>\n      <th>2730</th>\n      <td>2731</td>\n      <td>905351045</td>\n      <td>150</td>\n      <td>RL</td>\n      <td>NaN</td>\n      <td>1700</td>\n      <td>Pave</td>\n      <td>Reg</td>\n      <td>HLS</td>\n      <td>AllPub</td>\n      <td>...</td>\n      <td>0</td>\n      <td>200</td>\n      <td>0</td>\n      <td>0</td>\n      <td>4</td>\n      <td>2006</td>\n      <td>WD</td>\n      <td>Normal</td>\n      <td>148400</td>\n      <td>False</td>\n    </tr>\n    <tr>\n      <th>2821</th>\n      <td>2822</td>\n      <td>908127050</td>\n      <td>20</td>\n      <td>RL</td>\n      <td>73.0</td>\n      <td>16133</td>\n      <td>Pave</td>\n      <td>Reg</td>\n      <td>HLS</td>\n      <td>AllPub</td>\n      <td>...</td>\n      <td>0</td>\n      <td>112</td>\n      <td>0</td>\n      <td>0</td>\n      <td>12</td>\n      <td>2006</td>\n      <td>WD</td>\n      <td>Abnorml</td>\n      <td>119900</td>\n      <td>False</td>\n    </tr>\n    <tr>\n      <th>2851</th>\n      <td>2852</td>\n      <td>909250200</td>\n      <td>70</td>\n      <td>RL</td>\n      <td>69.0</td>\n      <td>4899</td>\n      <td>Pave</td>\n      <td>Reg</td>\n      <td>HLS</td>\n      <td>AllPub</td>\n      <td>...</td>\n      <td>0</td>\n      <td>0</td>\n      <td>0</td>\n      <td>0</td>\n      <td>6</td>\n      <td>2006</td>\n      <td>WD</td>\n      <td>Normal</td>\n      <td>149000</td>\n      <td>False</td>\n    </tr>\n    <tr>\n      <th>2865</th>\n      <td>2866</td>\n      <td>909282060</td>\n      <td>70</td>\n      <td>RL</td>\n      <td>70.0</td>\n      <td>12320</td>\n      <td>Pave</td>\n      <td>IR1</td>\n      <td>HLS</td>\n      <td>AllPub</td>\n      <td>...</td>\n      <td>0</td>\n      <td>104</td>\n      <td>0</td>\n      <td>0</td>\n      <td>5</td>\n      <td>2006</td>\n      <td>WD</td>\n      <td>Normal</td>\n      <td>199500</td>\n      <td>True</td>\n    </tr>\n  </tbody>\n</table>\n<p>79 rows × 77 columns</p>\n</div>"
     },
     "execution_count": 18,
     "metadata": {},
     "output_type": "execute_result"
    }
   ],
   "source": [
    "df[(df['Land Slope'] == 'Gtl') & (df['Land Contour'] == 'HLS')]"
   ],
   "metadata": {
    "collapsed": false,
    "ExecuteTime": {
     "end_time": "2025-10-07T07:03:28.316613Z",
     "start_time": "2025-10-07T07:03:28.293424Z"
    }
   },
   "id": "684adad087e9ebeb",
   "execution_count": 18
  },
  {
   "cell_type": "markdown",
   "source": [],
   "metadata": {
    "collapsed": false
   },
   "id": "46d88850bed03476"
  },
  {
   "cell_type": "markdown",
   "source": [
    "We will eliminate the entries with Land Slope = Gtl and Land Contour = HLS because they are obviously errors."
   ],
   "metadata": {
    "collapsed": false
   },
   "id": "b818f526c6631155"
  },
  {
   "cell_type": "code",
   "outputs": [],
   "source": [
    "df = df[~((df['Land Slope'] == 'Gtl') & (df['Land Contour'] == 'HLS'))]"
   ],
   "metadata": {
    "collapsed": false,
    "ExecuteTime": {
     "end_time": "2025-10-07T07:03:32.270905Z",
     "start_time": "2025-10-07T07:03:32.261360Z"
    }
   },
   "id": "248a7e1babff70d9",
   "execution_count": 19
  },
  {
   "cell_type": "markdown",
   "source": [
    "Feature Engineering: Adding total square footage of house and price per square foot as useful columns."
   ],
   "metadata": {
    "collapsed": false
   },
   "id": "a8e5f4d3dafdcaf9"
  },
  {
   "cell_type": "code",
   "outputs": [],
   "source": [
    "df['Total SF'] = df['Total Bsmt SF'] + df['1st Flr SF'] + df['2nd Flr SF']"
   ],
   "metadata": {
    "collapsed": false,
    "ExecuteTime": {
     "end_time": "2025-10-07T07:07:35.186998Z",
     "start_time": "2025-10-07T07:07:35.181877Z"
    }
   },
   "id": "1d06dcca245de7a8",
   "execution_count": 21
  },
  {
   "cell_type": "code",
   "outputs": [],
   "source": [
    "df['Price per SF'] = df['SalePrice'] / df['Total SF']"
   ],
   "metadata": {
    "collapsed": false,
    "ExecuteTime": {
     "end_time": "2025-10-07T07:07:50.097094Z",
     "start_time": "2025-10-07T07:07:50.092500Z"
    }
   },
   "id": "7eb4ff6322d76362",
   "execution_count": 22
  },
  {
   "cell_type": "markdown",
   "source": [
    "Checking the correlation of the new columns with SalePrice."
   ],
   "metadata": {
    "collapsed": false
   },
   "id": "7ccf3352307872fe"
  },
  {
   "cell_type": "code",
   "outputs": [
    {
     "data": {
      "text/plain": "              Total SF  Price per SF  SalePrice\nTotal SF      1.000000      0.108053   0.789982\nPrice per SF  0.108053      1.000000   0.634888\nSalePrice     0.789982      0.634888   1.000000",
      "text/html": "<div>\n<style scoped>\n    .dataframe tbody tr th:only-of-type {\n        vertical-align: middle;\n    }\n\n    .dataframe tbody tr th {\n        vertical-align: top;\n    }\n\n    .dataframe thead th {\n        text-align: right;\n    }\n</style>\n<table border=\"1\" class=\"dataframe\">\n  <thead>\n    <tr style=\"text-align: right;\">\n      <th></th>\n      <th>Total SF</th>\n      <th>Price per SF</th>\n      <th>SalePrice</th>\n    </tr>\n  </thead>\n  <tbody>\n    <tr>\n      <th>Total SF</th>\n      <td>1.000000</td>\n      <td>0.108053</td>\n      <td>0.789982</td>\n    </tr>\n    <tr>\n      <th>Price per SF</th>\n      <td>0.108053</td>\n      <td>1.000000</td>\n      <td>0.634888</td>\n    </tr>\n    <tr>\n      <th>SalePrice</th>\n      <td>0.789982</td>\n      <td>0.634888</td>\n      <td>1.000000</td>\n    </tr>\n  </tbody>\n</table>\n</div>"
     },
     "execution_count": 23,
     "metadata": {},
     "output_type": "execute_result"
    }
   ],
   "source": [
    "df[['Total SF', 'Price per SF', 'SalePrice']].corr()"
   ],
   "metadata": {
    "collapsed": false,
    "ExecuteTime": {
     "end_time": "2025-10-07T07:10:01.673368Z",
     "start_time": "2025-10-07T07:10:01.664885Z"
    }
   },
   "id": "aa673e7f506f58f2",
   "execution_count": 23
  },
  {
   "cell_type": "code",
   "outputs": [
    {
     "data": {
      "text/plain": "<Axes: >"
     },
     "execution_count": 25,
     "metadata": {},
     "output_type": "execute_result"
    },
    {
     "data": {
      "text/plain": "<Figure size 640x480 with 2 Axes>",
      "image/png": "[encoded data removed]"
     },
     "metadata": {},
     "output_type": "display_data"
    }
   ],
   "source": [
    "import seaborn as sns\n",
    "sns.heatmap(df[['Total SF', 'Price per SF', 'SalePrice']].corr(), annot=True)\n"
   ],
   "metadata": {
    "collapsed": false,
    "ExecuteTime": {
     "end_time": "2025-10-07T07:12:25.273299Z",
     "start_time": "2025-10-07T07:12:25.149649Z"
    }
   },
   "id": "d895fa0084a62ae0",
   "execution_count": 25
  },
  {
   "cell_type": "markdown",
   "source": [
    "The strongest correlation is between Total SF and SalePrice. It is valuable for prediction."
   ],
   "metadata": {
    "collapsed": false
   },
   "id": "126660212d17bfe2"
  },
  {
   "cell_type": "markdown",
   "source": [
    "Checking for other useless features."
   ],
   "metadata": {
    "collapsed": false
   },
   "id": "b51f7776e9834473"
  },
  {
   "cell_type": "code",
   "outputs": [],
   "source": [
    "missing_threshold = len(df) * 0.5\n",
    "high_missing = df.isnull().sum()[df.isnull().sum() > missing_threshold]"
   ],
   "metadata": {
    "collapsed": false,
    "ExecuteTime": {
     "end_time": "2025-10-07T07:26:05.870435Z",
     "start_time": "2025-10-07T07:26:05.859083Z"
    }
   },
   "id": "e98dc74e4892725f",
   "execution_count": 28
  },
  {
   "cell_type": "code",
   "outputs": [
    {
     "data": {
      "text/plain": "Mas Vnr Type    1731\ndtype: int64"
     },
     "execution_count": 29,
     "metadata": {},
     "output_type": "execute_result"
    }
   ],
   "source": [
    "high_missing"
   ],
   "metadata": {
    "collapsed": false,
    "ExecuteTime": {
     "end_time": "2025-10-07T07:26:08.568378Z",
     "start_time": "2025-10-07T07:26:08.563912Z"
    }
   },
   "id": "8e923e762933b5ef",
   "execution_count": 29
  },
  {
   "cell_type": "markdown",
   "source": [
    "We will drop these columns with more than 50% missing values."
   ],
   "metadata": {
    "collapsed": false
   },
   "id": "ef8e1195db50f64f"
  },
  {
   "cell_type": "code",
   "outputs": [],
   "source": [
    "df = df.drop(columns=high_missing.index)"
   ],
   "metadata": {
    "collapsed": false,
    "ExecuteTime": {
     "end_time": "2025-10-07T07:26:38.601901Z",
     "start_time": "2025-10-07T07:26:38.596570Z"
    }
   },
   "id": "e0b111b0c673e4b9",
   "execution_count": 30
  },
  {
   "cell_type": "markdown",
   "source": [
    "Checking if column was actually dropped."
   ],
   "metadata": {
    "collapsed": false
   },
   "id": "e83c728b3a0f1557"
  },
  {
   "cell_type": "code",
   "outputs": [
    {
     "data": {
      "text/plain": "False"
     },
     "execution_count": 31,
     "metadata": {},
     "output_type": "execute_result"
    }
   ],
   "source": [
    "'Mas Vnr Type' in df.columns"
   ],
   "metadata": {
    "collapsed": false,
    "ExecuteTime": {
     "end_time": "2025-10-07T07:27:17.987411Z",
     "start_time": "2025-10-07T07:27:17.982501Z"
    }
   },
   "id": "cd33dedd15964ad6",
   "execution_count": 31
  }
 ],
 "metadata": {
  "kernelspec": {
   "display_name": "Python 3",
   "language": "python",
   "name": "python3"
  },
  "language_info": {
   "codemirror_mode": {
    "name": "ipython",
    "version": 2
   },
   "file_extension": ".py",
   "mimetype": "text/x-python",
   "name": "python",
   "nbconvert_exporter": "python",
   "pygments_lexer": "ipython2",
   "version": "2.7.6"
  }
 },
 "nbformat": 4,
 "nbformat_minor": 5
}
